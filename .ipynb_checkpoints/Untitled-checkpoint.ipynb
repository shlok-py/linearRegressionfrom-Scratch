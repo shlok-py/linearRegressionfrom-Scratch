{
 "cells": [
  {
   "cell_type": "code",
   "execution_count": 29,
   "id": "54437fc3",
   "metadata": {},
   "outputs": [],
   "source": [
    "import pandas as pd\n",
    "import matplotlib.pyplot as plt\n",
    "data = pd.read_csv('data.csv')"
   ]
  },
  {
   "cell_type": "code",
   "execution_count": 30,
   "id": "9eb4d490",
   "metadata": {},
   "outputs": [
    {
     "data": {
      "text/plain": [
       "<matplotlib.collections.PathCollection at 0x1abf4da2860>"
      ]
     },
     "execution_count": 30,
     "metadata": {},
     "output_type": "execute_result"
    },
    {
     "data": {
      "image/png": "[encoded data removed]",
      "text/plain": [
       "<Figure size 432x288 with 1 Axes>"
      ]
     },
     "metadata": {
      "needs_background": "light"
     },
     "output_type": "display_data"
    }
   ],
   "source": [
    "plt.scatter(data['SQUARE_FT'], data['Price'])"
   ]
  },
  {
   "cell_type": "code",
   "execution_count": 31,
   "id": "c0efe85d",
   "metadata": {},
   "outputs": [],
   "source": [
    "def loss_function(m,b,points):\n",
    "    total_error = 0\n",
    "    for i in range(len(points)):\n",
    "        x = points.iloc[i].SQUARE_FT\n",
    "        y = points.iloc[i].Price\n",
    "        total_error += (y - (m*x + b)) ** 2\n",
    "    total_error = total_error / 2*float(len(points))\n"
   ]
  },
  {
   "cell_type": "code",
   "execution_count": 32,
   "id": "edcc1bec",
   "metadata": {},
   "outputs": [],
   "source": [
    "def gradient_descent(points, starting_m, starting_b, learning_rate):\n",
    "    m_gradient = 0\n",
    "    b_gradient = 0\n",
    "    n=len(points)\n",
    "    for i in range(n):\n",
    "        x = points.iloc[i].SQUARE_FT\n",
    "        y = points.iloc[i].Price\n",
    "        \n",
    "        m_gradient += -(1/2n) * x *(y - (starting_m * x + starting_b))\n",
    "        b_gradient += -(1/2n) * (y - (starting_m * x + starting_b))\n",
    "    new_m = starting_m - (learning_rate * m_gradient)\n",
    "    new_b = starting_b - (learning_rate * b_gradient)\n",
    "    return [new_m, new_b]\n"
   ]
  },
  {
   "cell_type": "code",
   "execution_count": 37,
   "id": "66216df0",
   "metadata": {},
   "outputs": [],
   "source": [
    "m = 0\n",
    "b = 0\n",
    "learning_rate = 0.0001\n",
    "epochs = 100"
   ]
  },
  {
   "cell_type": "code",
   "execution_count": 38,
   "id": "2e2e95e3",
   "metadata": {},
   "outputs": [
    {
     "name": "stdout",
     "output_type": "stream",
     "text": [
      "epoch: 0\n",
      "epoch: 50\n",
      "m: -9.905648276834205e+252, b: -7.402769864005028e+249\n"
     ]
    }
   ],
   "source": [
    "for i in range(epochs):\n",
    "    if i % 50 == 0:\n",
    "        print(f\"epoch: {i}\")\n",
    "    m,b = gradient_descent(data, m, b, learning_rate)\n",
    "print(\"m: {}, b: {}\".format(m,b))\n"
   ]
  },
  {
   "cell_type": "code",
   "execution_count": 39,
   "id": "c0817ca5",
   "metadata": {},
   "outputs": [
    {
     "data": {
      "image/png": "[encoded data removed]",
      "text/plain": [
       "<Figure size 432x288 with 1 Axes>"
      ]
     },
     "metadata": {
      "needs_background": "light"
     },
     "output_type": "display_data"
    }
   ],
   "source": [
    "plt.scatter(data['SQUARE_FT'], data['Price'])\n",
    "plt.plot(data['SQUARE_FT'], m*data['SQUARE_FT'] + b, color = 'blue')\n",
    "plt.show()"
   ]
  },
  {
   "cell_type": "code",
   "execution_count": null,
   "id": "b2b14c84",
   "metadata": {},
   "outputs": [],
   "source": []
  }
 ],
 "metadata": {
  "kernelspec": {
   "display_name": "Python 3 (ipykernel)",
   "language": "python",
   "name": "python3"
  },
  "language_info": {
   "codemirror_mode": {
    "name": "ipython",
    "version": 3
   },
   "file_extension": ".py",
   "mimetype": "text/x-python",
   "name": "python",
   "nbconvert_exporter": "python",
   "pygments_lexer": "ipython3",
   "version": "3.10.5"
  }
 },
 "nbformat": 4,
 "nbformat_minor": 5
}
