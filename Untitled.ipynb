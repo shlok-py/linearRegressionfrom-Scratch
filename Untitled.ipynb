{
 "cells": [
  {
   "cell_type": "code",
   "execution_count": 29,
   "id": "d40f830a",
   "metadata": {},
   "outputs": [],
   "source": [
    "import pandas as pd\n",
    "import matplotlib.pyplot as plt\n",
    "data = pd.read_csv('data.csv')"
   ]
  },
  {
   "cell_type": "code",
   "execution_count": 30,
   "id": "0c643fa1",
   "metadata": {},
   "outputs": [
    {
     "data": {
      "text/plain": [
       "<matplotlib.collections.PathCollection at 0x1abf4da2860>"
      ]
     },
     "execution_count": 30,
     "metadata": {},
     "output_type": "execute_result"
    },
    {
     "data": {
      "image/png": "[encoded data removed]",
      "text/plain": [
       "<Figure size 432x288 with 1 Axes>"
      ]
     },
     "metadata": {
      "needs_background": "light"
     },
     "output_type": "display_data"
    }
   ],
   "source": [
    "plt.scatter(data['SQUARE_FT'], data['Price'])"
   ]
  },
  {
   "cell_type": "code",
   "execution_count": 128,
   "id": "264099c8",
   "metadata": {},
   "outputs": [],
   "source": [
    "def loss_function(m,b,points):\n",
    "    total_error = 0\n",
    "    for i in range(len(points)):\n",
    "        x = points.iloc[i].SQUARE_FT\n",
    "        y = points.iloc[i].Price\n",
    "        total_error += (y - (m*x + b)) ** 2\n",
    "    total_error = total_error / (2*float(len(points)))\n",
    "    return total_error\n"
   ]
  },
  {
   "cell_type": "code",
   "execution_count": 129,
   "id": "c87c5384",
   "metadata": {},
   "outputs": [],
   "source": [
    "def gradient_descent(points, starting_m, starting_b, learning_rate):\n",
    "    m_gradient = 0\n",
    "    b_gradient = 0\n",
    "    n=len(points)\n",
    "    for i in range(n):\n",
    "        x = points.iloc[i].SQUARE_FT\n",
    "        y = points.iloc[i].Price\n",
    "        \n",
    "        m_gradient += -(1/(2*n)) * x *(y - (starting_m * x + starting_b))\n",
    "        b_gradient += -(1/(2*n)) * (y - (starting_m * x + starting_b))\n",
    "    new_m = starting_m - (learning_rate * m_gradient)\n",
    "    new_b = starting_b - (learning_rate * b_gradient)\n",
    "    return [new_m, new_b]\n"
   ]
  },
  {
   "cell_type": "code",
   "execution_count": 130,
   "id": "4a7daef5",
   "metadata": {},
   "outputs": [],
   "source": [
    "m = 0\n",
    "b = 0\n",
    "learning_rate = 0.000001\n",
    "epochs = 10"
   ]
  },
  {
   "cell_type": "code",
   "execution_count": 131,
   "id": "f81213fb",
   "metadata": {},
   "outputs": [
    {
     "name": "stdout",
     "output_type": "stream",
     "text": [
      "epoch: 0\n",
      "m: 0, b: 0\n",
      "epoch: 3\n",
      "m: 0.10522219040297157, b: 7.921616967249293e-05\n",
      "epoch: 6\n",
      "m: 0.10545982811964844, b: 7.99744271168012e-05\n",
      "epoch: 9\n",
      "m: 0.10546036437753659, b: 8.055549193930871e-05\n"
     ]
    }
   ],
   "source": [
    "for i in range(epochs+1):\n",
    "    if i % 3 == 0:\n",
    "        print(f\"epoch: {i}\")\n",
    "        print(\"m: {}, b: {}\".format(m,b))\n",
    "        \n",
    "    m,b = gradient_descent(data, m, b, learning_rate)\n"
   ]
  },
  {
   "cell_type": "code",
   "execution_count": 132,
   "id": "00a92191",
   "metadata": {},
   "outputs": [
    {
     "data": {
      "image/png": "[encoded data removed]",
      "text/plain": [
       "<Figure size 432x288 with 1 Axes>"
      ]
     },
     "metadata": {
      "needs_background": "light"
     },
     "output_type": "display_data"
    },
    {
     "name": "stdout",
     "output_type": "stream",
     "text": [
      "total_loss: 45.75009326358579\n"
     ]
    }
   ],
   "source": [
    "plt.scatter(data['SQUARE_FT'], data['Price'])\n",
    "plt.plot(data['SQUARE_FT'], m*data['SQUARE_FT'] + b, color = 'blue')\n",
    "plt.show()\n",
    "print(f\"total_loss: {loss_function(m,b,data)}\")"
   ]
  },
  {
   "cell_type": "code",
   "execution_count": null,
   "id": "23655762",
   "metadata": {},
   "outputs": [],
   "source": []
  }
 ],
 "metadata": {
  "kernelspec": {
   "display_name": "Python 3 (ipykernel)",
   "language": "python",
   "name": "python3"
  },
  "language_info": {
   "codemirror_mode": {
    "name": "ipython",
    "version": 3
   },
   "file_extension": ".py",
   "mimetype": "text/x-python",
   "name": "python",
   "nbconvert_exporter": "python",
   "pygments_lexer": "ipython3",
   "version": "3.10.5"
  }
 },
 "nbformat": 4,
 "nbformat_minor": 5
}
